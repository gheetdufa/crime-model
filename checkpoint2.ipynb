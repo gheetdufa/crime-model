{
 "cells": [
  {
   "cell_type": "markdown",
   "id": "2c1fb121",
   "metadata": {},
   "source": [
    "# Checkpoint 2 Notebook"
   ]
  },
  {
   "cell_type": "markdown",
   "id": "9255cc05",
   "metadata": {},
   "source": [
    "Descriptions of columns in dataset: https://data.lacity.org/Public-Safety/Crime-Data-from-2020-to-Present/2nrs-mtv8/about_data"
   ]
  },
  {
   "cell_type": "markdown",
   "id": "5f7b461a",
   "metadata": {},
   "source": [
    "(5 points) Data preprocessing: (a) import, (b) parse (e.g., convert strings to ints), (c)\n",
    "organize (e.g., set up a database or a pandas DataFrame).\n",
    "\n",
    "(20 points) Basic data exploration and summary statistics\n",
    "○ You must present three conclusions using at least three different statistical\n",
    "methods including hypothesis testing.\n",
    "■ For example: What are the main characteristics of your dataset? How\n",
    "many features and entries are there? Is a feature over-represented? Are\n",
    "features correlated? Are there outliers? Identify the attributes that will\n",
    "affect your choice of primary analysis technique. Etcetera.\n",
    "○ For each method, you must have at least one gorgeous plot."
   ]
  },
  {
   "cell_type": "markdown",
   "id": "2b931faf",
   "metadata": {},
   "source": [
    "## Data Preprocessing"
   ]
  },
  {
   "cell_type": "markdown",
   "id": "e158e6fb",
   "metadata": {},
   "source": [
    "Since our dataset is so large, we had to split it into multiple files to be able to upload it to GitHub. Therefore, the first step in our data preprocessing is to import all the files and concatenate them into a single DataFrame. We will use the pandas library for this task.\n"
   ]
  },
  {
   "cell_type": "code",
   "execution_count": 1,
   "id": "161050ae",
   "metadata": {},
   "outputs": [],
   "source": [
    "import pandas as pd\n",
    "\n",
    "\n",
    "def load_full_crime_data_df():\n",
    "    year_range = list(range(2020, 2026))\n",
    "    main_df = None\n",
    "    for year in year_range:\n",
    "        df = pd.read_csv(f\"data/crime_data_{year}.csv\")\n",
    "        if main_df is None:\n",
    "            main_df = df\n",
    "        else:\n",
    "            main_df = pd.concat([main_df, df], ignore_index=True)\n",
    "    return main_df\n"
   ]
  },
  {
   "cell_type": "code",
   "execution_count": 2,
   "id": "61b36173",
   "metadata": {},
   "outputs": [],
   "source": [
    "df = load_full_crime_data_df()"
   ]
  },
  {
   "cell_type": "code",
   "execution_count": 3,
   "id": "53166fe3",
   "metadata": {},
   "outputs": [
    {
     "data": {
      "text/html": [
       "<div>\n",
       "<style scoped>\n",
       "    .dataframe tbody tr th:only-of-type {\n",
       "        vertical-align: middle;\n",
       "    }\n",
       "\n",
       "    .dataframe tbody tr th {\n",
       "        vertical-align: top;\n",
       "    }\n",
       "\n",
       "    .dataframe thead th {\n",
       "        text-align: right;\n",
       "    }\n",
       "</style>\n",
       "<table border=\"1\" class=\"dataframe\">\n",
       "  <thead>\n",
       "    <tr style=\"text-align: right;\">\n",
       "      <th></th>\n",
       "      <th>DR_NO</th>\n",
       "      <th>Date Rptd</th>\n",
       "      <th>DATE OCC</th>\n",
       "      <th>TIME OCC</th>\n",
       "      <th>AREA</th>\n",
       "      <th>AREA NAME</th>\n",
       "      <th>Rpt Dist No</th>\n",
       "      <th>Part 1-2</th>\n",
       "      <th>Crm Cd</th>\n",
       "      <th>Crm Cd Desc</th>\n",
       "      <th>...</th>\n",
       "      <th>Status Desc</th>\n",
       "      <th>Crm Cd 1</th>\n",
       "      <th>Crm Cd 2</th>\n",
       "      <th>Crm Cd 3</th>\n",
       "      <th>Crm Cd 4</th>\n",
       "      <th>LOCATION</th>\n",
       "      <th>Cross Street</th>\n",
       "      <th>LAT</th>\n",
       "      <th>LON</th>\n",
       "      <th>Year</th>\n",
       "    </tr>\n",
       "  </thead>\n",
       "  <tbody>\n",
       "    <tr>\n",
       "      <th>0</th>\n",
       "      <td>211507896</td>\n",
       "      <td>04/11/2021 12:00:00 AM</td>\n",
       "      <td>2020-11-07</td>\n",
       "      <td>845</td>\n",
       "      <td>15</td>\n",
       "      <td>N Hollywood</td>\n",
       "      <td>1502</td>\n",
       "      <td>2</td>\n",
       "      <td>354</td>\n",
       "      <td>THEFT OF IDENTITY</td>\n",
       "      <td>...</td>\n",
       "      <td>Invest Cont</td>\n",
       "      <td>354.0</td>\n",
       "      <td>NaN</td>\n",
       "      <td>NaN</td>\n",
       "      <td>NaN</td>\n",
       "      <td>7800    BEEMAN                       AV</td>\n",
       "      <td>NaN</td>\n",
       "      <td>34.2124</td>\n",
       "      <td>-118.4092</td>\n",
       "      <td>2020</td>\n",
       "    </tr>\n",
       "    <tr>\n",
       "      <th>1</th>\n",
       "      <td>201516622</td>\n",
       "      <td>10/21/2020 12:00:00 AM</td>\n",
       "      <td>2020-10-18</td>\n",
       "      <td>1845</td>\n",
       "      <td>15</td>\n",
       "      <td>N Hollywood</td>\n",
       "      <td>1521</td>\n",
       "      <td>1</td>\n",
       "      <td>230</td>\n",
       "      <td>ASSAULT WITH DEADLY WEAPON, AGGRAVATED ASSAULT</td>\n",
       "      <td>...</td>\n",
       "      <td>Invest Cont</td>\n",
       "      <td>230.0</td>\n",
       "      <td>NaN</td>\n",
       "      <td>NaN</td>\n",
       "      <td>NaN</td>\n",
       "      <td>ATOLL                        AV</td>\n",
       "      <td>N  GAULT</td>\n",
       "      <td>34.1993</td>\n",
       "      <td>-118.4203</td>\n",
       "      <td>2020</td>\n",
       "    </tr>\n",
       "    <tr>\n",
       "      <th>2</th>\n",
       "      <td>240913563</td>\n",
       "      <td>12/10/2024 12:00:00 AM</td>\n",
       "      <td>2020-10-30</td>\n",
       "      <td>1240</td>\n",
       "      <td>9</td>\n",
       "      <td>Van Nuys</td>\n",
       "      <td>933</td>\n",
       "      <td>2</td>\n",
       "      <td>354</td>\n",
       "      <td>THEFT OF IDENTITY</td>\n",
       "      <td>...</td>\n",
       "      <td>Invest Cont</td>\n",
       "      <td>354.0</td>\n",
       "      <td>NaN</td>\n",
       "      <td>NaN</td>\n",
       "      <td>NaN</td>\n",
       "      <td>14600    SYLVAN                       ST</td>\n",
       "      <td>NaN</td>\n",
       "      <td>34.1847</td>\n",
       "      <td>-118.4509</td>\n",
       "      <td>2020</td>\n",
       "    </tr>\n",
       "    <tr>\n",
       "      <th>3</th>\n",
       "      <td>210704711</td>\n",
       "      <td>12/24/2020 12:00:00 AM</td>\n",
       "      <td>2020-12-24</td>\n",
       "      <td>1310</td>\n",
       "      <td>7</td>\n",
       "      <td>Wilshire</td>\n",
       "      <td>782</td>\n",
       "      <td>1</td>\n",
       "      <td>331</td>\n",
       "      <td>THEFT FROM MOTOR VEHICLE - GRAND ($950.01 AND ...</td>\n",
       "      <td>...</td>\n",
       "      <td>Invest Cont</td>\n",
       "      <td>331.0</td>\n",
       "      <td>NaN</td>\n",
       "      <td>NaN</td>\n",
       "      <td>NaN</td>\n",
       "      <td>6000    COMEY                        AV</td>\n",
       "      <td>NaN</td>\n",
       "      <td>34.0339</td>\n",
       "      <td>-118.3747</td>\n",
       "      <td>2020</td>\n",
       "    </tr>\n",
       "    <tr>\n",
       "      <th>4</th>\n",
       "      <td>201418201</td>\n",
       "      <td>10/03/2020 12:00:00 AM</td>\n",
       "      <td>2020-09-29</td>\n",
       "      <td>1830</td>\n",
       "      <td>14</td>\n",
       "      <td>Pacific</td>\n",
       "      <td>1454</td>\n",
       "      <td>1</td>\n",
       "      <td>420</td>\n",
       "      <td>THEFT FROM MOTOR VEHICLE - PETTY ($950 &amp; UNDER)</td>\n",
       "      <td>...</td>\n",
       "      <td>Invest Cont</td>\n",
       "      <td>420.0</td>\n",
       "      <td>NaN</td>\n",
       "      <td>NaN</td>\n",
       "      <td>NaN</td>\n",
       "      <td>4700    LA VILLA MARINA</td>\n",
       "      <td>NaN</td>\n",
       "      <td>33.9813</td>\n",
       "      <td>-118.4350</td>\n",
       "      <td>2020</td>\n",
       "    </tr>\n",
       "  </tbody>\n",
       "</table>\n",
       "<p>5 rows × 29 columns</p>\n",
       "</div>"
      ],
      "text/plain": [
       "       DR_NO               Date Rptd    DATE OCC  TIME OCC  AREA    AREA NAME  \\\n",
       "0  211507896  04/11/2021 12:00:00 AM  2020-11-07       845    15  N Hollywood   \n",
       "1  201516622  10/21/2020 12:00:00 AM  2020-10-18      1845    15  N Hollywood   \n",
       "2  240913563  12/10/2024 12:00:00 AM  2020-10-30      1240     9     Van Nuys   \n",
       "3  210704711  12/24/2020 12:00:00 AM  2020-12-24      1310     7     Wilshire   \n",
       "4  201418201  10/03/2020 12:00:00 AM  2020-09-29      1830    14      Pacific   \n",
       "\n",
       "   Rpt Dist No  Part 1-2  Crm Cd  \\\n",
       "0         1502         2     354   \n",
       "1         1521         1     230   \n",
       "2          933         2     354   \n",
       "3          782         1     331   \n",
       "4         1454         1     420   \n",
       "\n",
       "                                         Crm Cd Desc  ...  Status Desc  \\\n",
       "0                                  THEFT OF IDENTITY  ...  Invest Cont   \n",
       "1     ASSAULT WITH DEADLY WEAPON, AGGRAVATED ASSAULT  ...  Invest Cont   \n",
       "2                                  THEFT OF IDENTITY  ...  Invest Cont   \n",
       "3  THEFT FROM MOTOR VEHICLE - GRAND ($950.01 AND ...  ...  Invest Cont   \n",
       "4    THEFT FROM MOTOR VEHICLE - PETTY ($950 & UNDER)  ...  Invest Cont   \n",
       "\n",
       "   Crm Cd 1 Crm Cd 2 Crm Cd 3  Crm Cd 4  \\\n",
       "0     354.0      NaN      NaN       NaN   \n",
       "1     230.0      NaN      NaN       NaN   \n",
       "2     354.0      NaN      NaN       NaN   \n",
       "3     331.0      NaN      NaN       NaN   \n",
       "4     420.0      NaN      NaN       NaN   \n",
       "\n",
       "                                   LOCATION  Cross Street      LAT       LON  \\\n",
       "0   7800    BEEMAN                       AV           NaN  34.2124 -118.4092   \n",
       "1           ATOLL                        AV      N  GAULT  34.1993 -118.4203   \n",
       "2  14600    SYLVAN                       ST           NaN  34.1847 -118.4509   \n",
       "3   6000    COMEY                        AV           NaN  34.0339 -118.3747   \n",
       "4                   4700    LA VILLA MARINA           NaN  33.9813 -118.4350   \n",
       "\n",
       "   Year  \n",
       "0  2020  \n",
       "1  2020  \n",
       "2  2020  \n",
       "3  2020  \n",
       "4  2020  \n",
       "\n",
       "[5 rows x 29 columns]"
      ]
     },
     "execution_count": 3,
     "metadata": {},
     "output_type": "execute_result"
    }
   ],
   "source": [
    "df.head()"
   ]
  },
  {
   "cell_type": "code",
   "execution_count": 4,
   "id": "7fb440aa",
   "metadata": {},
   "outputs": [
    {
     "data": {
      "text/plain": [
       "DR_NO                   0\n",
       "Date Rptd               0\n",
       "DATE OCC                0\n",
       "TIME OCC                0\n",
       "AREA                    0\n",
       "AREA NAME               0\n",
       "Rpt Dist No             0\n",
       "Part 1-2                0\n",
       "Crm Cd                  0\n",
       "Crm Cd Desc             0\n",
       "Mocodes            151619\n",
       "Vict Age                0\n",
       "Vict Sex           144644\n",
       "Vict Descent       144656\n",
       "Premis Cd              16\n",
       "Premis Desc           588\n",
       "Weapon Used Cd     677744\n",
       "Weapon Desc        677744\n",
       "Status                  1\n",
       "Status Desc             0\n",
       "Crm Cd 1               11\n",
       "Crm Cd 2           935831\n",
       "Crm Cd 3          1002677\n",
       "Crm Cd 4          1004927\n",
       "LOCATION                0\n",
       "Cross Street       850755\n",
       "LAT                     0\n",
       "LON                     0\n",
       "Year                    0\n",
       "dtype: int64"
      ]
     },
     "execution_count": 4,
     "metadata": {},
     "output_type": "execute_result"
    }
   ],
   "source": [
    "df.isnull().sum()"
   ]
  },
  {
   "cell_type": "markdown",
   "id": "06e5f3cf",
   "metadata": {},
   "source": [
    "We will convert the \"Date Rptd\" column to datetime format for easier analysis later on."
   ]
  },
  {
   "cell_type": "code",
   "execution_count": 5,
   "id": "ad215624",
   "metadata": {},
   "outputs": [],
   "source": [
    "df[\"Date Rptd\"] = pd.to_datetime(\n",
    "    df[\"Date Rptd\"], format=\"%m/%d/%Y %I:%M:%S %p\", errors=\"coerce\"\n",
    ")"
   ]
  },
  {
   "cell_type": "markdown",
   "id": "d7c84150",
   "metadata": {},
   "source": [
    "Additionally we will combine the \"DATE OCC\" and \"TIME OCC\" columns into a single datetime column called \"Date Occurred\"."
   ]
  },
  {
   "cell_type": "code",
   "execution_count": 6,
   "id": "a959c239",
   "metadata": {},
   "outputs": [],
   "source": [
    "df[\"DATE OCC\"] = pd.to_datetime(df[\"DATE OCC\"], errors=\"coerce\")\n",
    "\n",
    "time_str = df[\"TIME OCC\"].fillna(0).astype(int).astype(str).str.zfill(4)\n",
    "\n",
    "date_part = df[\"DATE OCC\"].dt.strftime(\"%Y-%m-%d\")\n",
    "combined = (\n",
    "    date_part + \" \" + time_str.str.slice(0, 2) + \":\" + time_str.str.slice(2, 4) + \":00\"\n",
    ")\n",
    "df[\"DATE OCC\"] = pd.to_datetime(combined, format=\"%Y-%m-%d %H:%M:%S\", errors=\"coerce\")\n",
    "df = df.drop(columns=[\"TIME OCC\"])"
   ]
  },
  {
   "cell_type": "code",
   "execution_count": 7,
   "id": "84ae1802",
   "metadata": {},
   "outputs": [
    {
     "name": "stdout",
     "output_type": "stream",
     "text": [
      "Column 'DR_NO' has 0 missing values. Column dtype: int64\n",
      "Column 'Date Rptd' has 0 missing values. Column dtype: datetime64[ns]\n",
      "Column 'DATE OCC' has 0 missing values. Column dtype: datetime64[ns]\n",
      "Column 'AREA' has 0 missing values. Column dtype: int64\n",
      "Column 'AREA NAME' has 0 missing values. Column dtype: object\n",
      "Column 'Rpt Dist No' has 0 missing values. Column dtype: int64\n",
      "Column 'Part 1-2' has 0 missing values. Column dtype: int64\n",
      "Column 'Crm Cd' has 0 missing values. Column dtype: int64\n",
      "Column 'Crm Cd Desc' has 0 missing values. Column dtype: object\n",
      "Column 'Mocodes' has 151619 missing values. Column dtype: object\n",
      "Column 'Vict Age' has 0 missing values. Column dtype: int64\n",
      "Column 'Vict Sex' has 144644 missing values. Column dtype: object\n",
      "Column 'Vict Descent' has 144656 missing values. Column dtype: object\n",
      "Column 'Premis Cd' has 16 missing values. Column dtype: float64\n",
      "Column 'Premis Desc' has 588 missing values. Column dtype: object\n",
      "Column 'Weapon Used Cd' has 677744 missing values. Column dtype: float64\n",
      "Column 'Weapon Desc' has 677744 missing values. Column dtype: object\n",
      "Column 'Status' has 1 missing values. Column dtype: object\n",
      "Column 'Status Desc' has 0 missing values. Column dtype: object\n",
      "Column 'Crm Cd 1' has 11 missing values. Column dtype: float64\n",
      "Column 'Crm Cd 2' has 935831 missing values. Column dtype: float64\n",
      "Column 'Crm Cd 3' has 1002677 missing values. Column dtype: float64\n",
      "Column 'Crm Cd 4' has 1004927 missing values. Column dtype: float64\n",
      "Column 'LOCATION' has 0 missing values. Column dtype: object\n",
      "Column 'Cross Street' has 850755 missing values. Column dtype: object\n",
      "Column 'LAT' has 0 missing values. Column dtype: float64\n",
      "Column 'LON' has 0 missing values. Column dtype: float64\n",
      "Column 'Year' has 0 missing values. Column dtype: int64\n"
     ]
    }
   ],
   "source": [
    "for col in df.columns:\n",
    "    print(\n",
    "        f\"Column '{col}' has {df[col].isnull().sum()} missing values. Column dtype: {df[col].dtype}\"\n",
    "    )"
   ]
  },
  {
   "cell_type": "markdown",
   "id": "5193e27d",
   "metadata": {},
   "source": [
    "Mocodes stands for Modus Operandi Codes, which are codes used to describe the method or manner in which a crime was committed. We will fill any missing values in this column with \"Unknown\"."
   ]
  },
  {
   "cell_type": "code",
   "execution_count": 8,
   "id": "ec59b37e",
   "metadata": {},
   "outputs": [],
   "source": [
    "df[\"Mocodes\"] = df[\"Mocodes\"].fillna(\"Unknown\")"
   ]
  },
  {
   "cell_type": "markdown",
   "id": "dd8b323f",
   "metadata": {},
   "source": [
    "For the \"Vict Sex\" and \"Vict Descent\" columns, we have filled any missing values with \"X\" to indicate that the information is not available, which is the convention used in the dataset."
   ]
  },
  {
   "cell_type": "code",
   "execution_count": 9,
   "id": "928ef8a6",
   "metadata": {},
   "outputs": [],
   "source": [
    "df[\"Vict Sex\"] = df[\"Vict Sex\"].fillna(\"X\")\n",
    "df[\"Vict Descent\"] = df[\"Vict Descent\"].fillna(\"X\")"
   ]
  },
  {
   "cell_type": "code",
   "execution_count": 10,
   "id": "acc20948",
   "metadata": {},
   "outputs": [],
   "source": [
    "df[\"Premis Cd\"] = df[\"Premis Cd\"].fillna(-1.0)\n",
    "df[\"Premis Desc\"] = df[\"Premis Desc\"].fillna(\"Unknown\")"
   ]
  },
  {
   "cell_type": "code",
   "execution_count": 11,
   "id": "5fd74a1b",
   "metadata": {},
   "outputs": [],
   "source": [
    "df[\"Weapon Used Cd\"] = df[\"Weapon Used Cd\"].fillna(-1.0)\n",
    "df[\"Weapon Desc\"] = df[\"Weapon Desc\"].fillna(\"Unkown\")"
   ]
  },
  {
   "cell_type": "code",
   "execution_count": 12,
   "id": "bc152b55",
   "metadata": {},
   "outputs": [],
   "source": [
    "df[\"Status\"] = df[\"Status\"].fillna(\"Unknown\")"
   ]
  },
  {
   "cell_type": "code",
   "execution_count": 13,
   "id": "f486945c",
   "metadata": {},
   "outputs": [],
   "source": [
    "df[\"Crm Cd 1\"] = df[\"Crm Cd 1\"].fillna(-1.0)\n",
    "df[\"Crm Cd 2\"] = df[\"Crm Cd 2\"].fillna(-1.0)\n",
    "df[\"Crm Cd 3\"] = df[\"Crm Cd 3\"].fillna(-1.0)\n",
    "df[\"Crm Cd 4\"] = df[\"Crm Cd 4\"].fillna(-1.0)"
   ]
  },
  {
   "cell_type": "code",
   "execution_count": 14,
   "id": "faf4b687",
   "metadata": {},
   "outputs": [],
   "source": [
    "df[\"Cross Street\"] = df[\"Cross Street\"].fillna(\"N/A\")"
   ]
  }
 ],
 "metadata": {
  "kernelspec": {
   "display_name": "crime-model (3.13.5)",
   "language": "python",
   "name": "python3"
  },
  "language_info": {
   "codemirror_mode": {
    "name": "ipython",
    "version": 3
   },
   "file_extension": ".py",
   "mimetype": "text/x-python",
   "name": "python",
   "nbconvert_exporter": "python",
   "pygments_lexer": "ipython3",
   "version": "3.13.5"
  }
 },
 "nbformat": 4,
 "nbformat_minor": 5
}
